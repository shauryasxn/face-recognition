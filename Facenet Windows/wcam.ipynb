{
 "cells": [
  {
   "cell_type": "code",
   "execution_count": 9,
   "metadata": {},
   "outputs": [],
   "source": [
    "# Import necessary libraries\n",
    "from facenet_pytorch import MTCNN, InceptionResnetV1\n",
    "import torch\n",
    "from torchvision import datasets\n",
    "from torch.utils.data import DataLoader\n",
    "from PIL import Image\n",
    "import cv2\n",
    "import time\n",
    "import os"
   ]
  },
  {
   "cell_type": "code",
   "execution_count": 10,
   "metadata": {},
   "outputs": [],
   "source": [
    "# Initializing MTCNN (Multi-task Cascaded Convolutional Networks) and InceptionResnetV1 models\n",
    "mtcnn0 = MTCNN(image_size=240, margin=0, keep_all=False, min_face_size=40)\n",
    "mtcnn = MTCNN(image_size=240, margin=0, keep_all=True, min_face_size=40)\n",
    "resnet = InceptionResnetV1(pretrained='vggface2').eval()  # Using InceptionResnetV1 with VGGFace2 pretraining"
   ]
  },
  {
   "cell_type": "code",
   "execution_count": 11,
   "metadata": {},
   "outputs": [],
   "source": [
    "# Loading the dataset using ImageFolder from torchvision\n",
    "dataset = datasets.ImageFolder('photos')  # The 'photos' folder contains subdirectories with labeled images\n",
    "idx_to_class = {i: c for c, i in dataset.class_to_idx.items()}  # Mapping index to class label\n",
    "\n",
    "def collate_fn(x):\n",
    "    return x[0]\n",
    "\n",
    "# Creating a DataLoader for the dataset\n",
    "loader = DataLoader(dataset, collate_fn=collate_fn)\n",
    "\n",
    "name_list = []  # List to store names corresponding to cropped photos\n",
    "embedding_list = []  # List to store embedding matrices after conversion from cropped faces using resnet\n",
    "\n",
    "# Processing each image in the dataset\n",
    "for img, idx in loader:\n",
    "    face, prob = mtcnn0(img, return_prob=True)\n",
    "    if face is not None and prob > 0.92:\n",
    "        emb = resnet(face.unsqueeze(0))\n",
    "        embedding_list.append(emb.detach())\n",
    "        name_list.append(idx_to_class[idx])\n",
    "\n",
    "# Saving the training data (embedding vectors and corresponding labels) to 'data.pt' file\n",
    "data = [embedding_list, name_list]\n",
    "torch.save(data, 'data.pt')"
   ]
  },
  {
   "cell_type": "code",
   "execution_count": 13,
   "metadata": {},
   "outputs": [
    {
     "name": "stdout",
     "output_type": "stream",
     "text": [
      "Esc pressed, closing...\n"
     ]
    }
   ],
   "source": [
    "# Using webcam to recognize faces in real-time\n",
    "load_data = torch.load('data.pt')\n",
    "embedding_list = load_data[0]\n",
    "name_list = load_data[1]\n",
    "\n",
    "# Initializing the webcam\n",
    "cam = cv2.VideoCapture(1)\n",
    "\n",
    "while True:\n",
    "    # Reading a frame from the webcam\n",
    "    ret, frame = cam.read()\n",
    "    if not ret:\n",
    "        print(\"Failed to grab frame, try again\")\n",
    "        break\n",
    "\n",
    "    # Converting the frame to PIL format for face detection\n",
    "    img = Image.fromarray(cv2.cvtColor(frame, cv2.COLOR_BGR2RGB))\n",
    "    img_cropped_list, prob_list = mtcnn(img, return_prob=True)\n",
    "\n",
    "    if img_cropped_list is not None:\n",
    "        boxes, _ = mtcnn.detect(img)\n",
    "\n",
    "        for i, prob in enumerate(prob_list):\n",
    "            if prob > 0.90:\n",
    "                emb = resnet(img_cropped_list[i].unsqueeze(0)).detach()\n",
    "\n",
    "                # Calculating distances to identify the person\n",
    "                dist_list = [torch.dist(emb, emb_db).item() for emb_db in embedding_list]\n",
    "\n",
    "                min_dist = min(dist_list)\n",
    "                min_dist_idx = dist_list.index(min_dist)\n",
    "                name = name_list[min_dist_idx]\n",
    "\n",
    "                box = boxes[i]\n",
    "\n",
    "                original_frame = frame.copy()  # Storing a copy of the frame before drawing on it\n",
    "\n",
    "                if min_dist < 0.90:\n",
    "                    org = (int(box[0]), int(box[1]) - 10)  # Adjusting the text position\n",
    "                    frame = cv2.putText(frame, f\"{name} {min_dist:.2f}\", org,\n",
    "                                        cv2.FONT_HERSHEY_SIMPLEX, 1, (0, 255, 0), 1, cv2.LINE_AA)\n",
    "\n",
    "                frame = cv2.rectangle(frame, (int(box[0]), int(box[1])), (int(box[2]), int(box[3])), (255, 0, 0), 2)\n",
    "\n",
    "    # Displaying the frame with recognized faces\n",
    "    cv2.imshow(\"IMG\", frame)\n",
    "\n",
    "    k = cv2.waitKey(1)\n",
    "    if k == 27:  # Pressing the ESC key to exit the loop\n",
    "        print('Esc pressed, closing...')\n",
    "        break\n",
    "\n",
    "    elif k == 32:  # Pressing the spacebar to save an image\n",
    "        print('Enter your name:')\n",
    "        name = input()\n",
    "\n",
    "        # Creating a directory if it doesn't exist\n",
    "        if not os.path.exists('photos/' + name):\n",
    "            os.mkdir('photos/' + name)\n",
    "\n",
    "        # Saving the image with the entered name and timestamp\n",
    "        img_name = \"photos/{}/{}.jpg\".format(name, int(time.time()))\n",
    "        cv2.imwrite(img_name, cv2.cvtColor(original_frame, cv2.COLOR_BGR2RGB))\n",
    "        print(\"Saved: {}\".format(img_name))\n",
    "\n",
    "# Releasing resources (closing the webcam and destroying OpenCV windows)\n",
    "cam.release()\n",
    "cv2.destroyAllWindows()"
   ]
  }
 ],
 "metadata": {
  "kernelspec": {
   "display_name": "base",
   "language": "python",
   "name": "python3"
  },
  "language_info": {
   "codemirror_mode": {
    "name": "ipython",
    "version": 3
   },
   "file_extension": ".py",
   "mimetype": "text/x-python",
   "name": "python",
   "nbconvert_exporter": "python",
   "pygments_lexer": "ipython3",
   "version": "3.11.5"
  }
 },
 "nbformat": 4,
 "nbformat_minor": 2
}
